{
 "cells": [
  {
   "cell_type": "markdown",
   "id": "a20ef7d9",
   "metadata": {},
   "source": [
    "# Cálculo numérico"
   ]
  },
  {
   "cell_type": "markdown",
   "id": "b403edeb",
   "metadata": {},
   "source": [
    "## Capítulos:\n",
    "\n",
    "### Zeros de função\n",
    "* [Método da bisseção](zeros_de_funcao/Metodo%20da%20bissecao.ipynb)\n",
    "* [Método das cordas](zeros_de_funcao/Metodo%20das%20cordas.ipynb)\n",
    "* [Método de newton](zeros_de_funcao/Metodo%20de%20newton.ipynb)\n",
    "* [EXERCÍCIOS SOBRE ZEROS DE FUNÇÕES](zeros_de_funcao/Lista%20-%20zeros%20de%20função.ipynb)\n",
    "\n",
    "### Sistemas Lineares\n",
    "* [Método de Jacobi](sistemas_lineares/Método%20de%20Jacobi.ipynb)\n",
    "* [Método de Gauss-Seidel](sistemas_lineares/Método%20de%20Gauss-Seidel.ipynb)\n",
    "* [EXERCÍCIOS SOBRE SISTEMAS LINEARES](sistemas_lineares/Lista%20-%20sistemas%20lineares.ipynb)\n",
    "\n",
    "### Interpolação\n",
    "* [Interpolação polinomial de lagrange](interpolacao/Interpolação%20polinomial%20de%20lagrange.ipynb)\n",
    "* [Método das diferenças finitas](interpolacao/Diferenças%20finitas.ipynb)\n",
    "* [Método das diferenças divididas](interpolacao/Diferenças%20divididas.ipynb)\n",
    "* [EXERCÍCIOS SOBRE INTERPOLAÇÃO](interpolacao/Lista%20-%20interpolação.ipynb)\n",
    "\n",
    "### Integração\n",
    "* [Método dos trapézios](integracao/M%C3%A9todo%20dos%20trap%C3%A9zios.ipynb)\n",
    "* [Primeira regra de Simpson](integracao/Primeira%20regra%20de%20Simpson.ipynb)\n",
    "* [Segunda regra de Simpson](integracao/Segunda%20regra%20de%20Simpson.ipynb)\n",
    "* [EXERCÍCIOS SOBRE INTEGRAÇÃO](integracao/Lista%20-%20integra%C3%A7%C3%A3o.ipynb)\n",
    "\n",
    "### Ajustes de curvas\n",
    "* [Ajustes](ajustes_de_curvas/Ajuste.ipynb)\n",
    "* [Linearização](ajustes_de_curvas/Lineariza%C3%A7%C3%A3o.ipynb)\n",
    "* [EXERCÍCIOS SOBRE AJUSTES DE CURVAS](ajustes_de_curvas/Lista%20-%20ajustes%20de%20curvas.ipynb)"
   ]
  }
 ],
 "metadata": {
  "kernelspec": {
   "display_name": "Python 3",
   "language": "python",
   "name": "python3"
  },
  "language_info": {
   "codemirror_mode": {
    "name": "ipython",
    "version": 3
   },
   "file_extension": ".py",
   "mimetype": "text/x-python",
   "name": "python",
   "nbconvert_exporter": "python",
   "pygments_lexer": "ipython3",
   "version": "3.9.6"
  }
 },
 "nbformat": 4,
 "nbformat_minor": 5
}
