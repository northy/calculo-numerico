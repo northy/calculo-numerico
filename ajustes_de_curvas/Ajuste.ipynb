{
 "cells": [
  {
   "cell_type": "markdown",
   "id": "f3a248ec",
   "metadata": {},
   "source": [
    "# Ajuste de Curvas\n",
    "\n",
    "Ajuste linear de curvas ou retas.\n",
    "\n",
    "* Gera uma relação quantitativa entre variáveis\n",
    "* Ajusta os atributos de curvas propostas para um intervalo de pontos\n",
    "\n",
    "#### Importar as biblioteas"
   ]
  },
  {
   "cell_type": "code",
   "execution_count": 1,
   "id": "5eede013",
   "metadata": {},
   "outputs": [],
   "source": [
    "%matplotlib inline\n",
    "%reload_ext autoreload\n",
    "%autoreload 2\n",
    "\n",
    "import plot\n",
    "import numpy as np\n",
    "import matplotlib.pyplot as plt\n",
    "import linsys"
   ]
  },
  {
   "cell_type": "markdown",
   "id": "349e2996",
   "metadata": {},
   "source": [
    "#### Definir o conjunto de pontos"
   ]
  },
  {
   "cell_type": "code",
   "execution_count": 2,
   "id": "64da6fbd",
   "metadata": {
    "scrolled": false
   },
   "outputs": [
    {
     "data": {
      "image/png": "[encoded data removed]",
      "text/plain": [
       "<Figure size 780x390 with 1 Axes>"
      ]
     },
     "metadata": {},
     "output_type": "display_data"
    }
   ],
   "source": [
    "d = 2 #grau do polinômio a ser ajustado +1\n",
    "\n",
    "P = [[0, 0],\n",
    "     [1, 2],\n",
    "     [2, 1],\n",
    "     [3, 3],\n",
    "     [4, 5],\n",
    "     [5, 7],\n",
    "     [6, 4],\n",
    "     [7, 6]]\n",
    "\n",
    "plt.figure(figsize=(6, 3), dpi=130)\n",
    "for x,y in P : plt.plot(x, y, 'bo')\n",
    "plt.show()"
   ]
  },
  {
   "cell_type": "markdown",
   "id": "417620f7",
   "metadata": {},
   "source": [
    "## Definição do método\n",
    "\n",
    "### Método dos minimos quadrados\n",
    "\n",
    "Dado uma distribuição de pontos, queremos construir $\\hat{y} = a_0 + a_1x$, que é um polinômio que expressa a tendência da distribuição.\n",
    "\n",
    "Cada ponto da curva possui uma diferença (também chamada de erro, possivelmente 0) de $y$ para $\\hat{y}$.\n",
    "\n",
    "<img src=\"squared_error.png\" style=\"width: 40%;\"></img>\n",
    "\n",
    "Porém ao somar esses valores para obter o erro médio, podemos perder dados, cancelando diferenças positivas e negativas. Por isso, queremos calcular a diferença quadrada. A diferença quadrada de um ponto é definida como $d_i^2 = (\\hat{y}_i-y_i)^2$, e\n",
    "\n",
    "$$D = \\sum_{i=1}^n d_i^2 = d_1^2 + d_2^2 + \\cdots + d_n^2$$.\n",
    "\n",
    "Reescrevendo D, $D = \\sum [(a_0+a_1x_i)-y_i]^2$, e queremos minimizar esse valor. Derivando parcialmente para os atributos da função, e utilizando a regra da cadeia:\n",
    "\n",
    "$\\frac{\\partial f}{\\partial a_0} = \\sum 2 [(a_0+a_1x_i)-y_i]^1 \\cdot 1$\n",
    "\n",
    "$\\frac{\\partial f}{\\partial a_1} = \\sum 2 [(a_0+a_1x_i)-y_i]^1 \\cdot x_i$\n",
    "\n",
    "Igualando os dois lados a 0, temos um sistema linear.\n",
    "\n",
    "$2 \\sum a_0+a_1x_i-y_i = 0$\n",
    "\n",
    "$2 \\sum a_0x_i+a_1x_i^2-y_ix_i = 0$\n",
    "\n",
    "$\\ $\n",
    "\n",
    "$\\sum a_0 + \\sum a_1x_i = \\sum y_i$\n",
    "\n",
    "$\\sum a_0x_i + \\sum a_1x_i^2 = \\sum y_ix_i$\n",
    "\n",
    "$\\ $\n",
    "\n",
    "$a_0 n + a_1 \\sum x_i = \\sum y_i$\n",
    "\n",
    "$ a_0 \\sum x_i + a_1 \\sum x_i^2 = \\sum y_ix_i$\n",
    "\n",
    "Logo,\n",
    "\n",
    "$$\n",
    "\\begin{pmatrix}\n",
    "n & \\sum x_i \\\\\n",
    "\\sum x_i & \\sum x_i^2\n",
    "\\end{pmatrix}\n",
    "\\cdot\n",
    "\\begin{pmatrix}\n",
    "a_0 \\\\\n",
    "a_1\n",
    "\\end{pmatrix}\n",
    "=\n",
    "\\begin{pmatrix}\n",
    "\\sum y_i \\\\\n",
    "\\sum x_iy_i\n",
    "\\end{pmatrix}\n",
    "$$\n",
    "\n",
    "### Solução Matricial\n",
    "\n",
    "$$\n",
    "\\begin{pmatrix}\n",
    "1 & x_1 \\\\\n",
    "1 & x_2 \\\\\n",
    "1 & x_3 \\\\\n",
    "\\vdots & \\vdots \\\\\n",
    "1 & x_n\n",
    "\\end{pmatrix}\n",
    "\\cdot\n",
    "\\begin{pmatrix}\n",
    "a_0 \\\\\n",
    "a_1\n",
    "\\end{pmatrix}\n",
    "=\n",
    "\\begin{pmatrix}\n",
    "y_1 \\\\\n",
    "y_2 \\\\\n",
    "y_3 \\\\\n",
    "\\vdots \\\\\n",
    "y_n\n",
    "\\end{pmatrix}\n",
    "$$\n",
    "\n",
    "Porém, esse sistema $A_{n \\times 2} \\cdot \\vec{x}_{2 \\times 1} = \\vec{y}_{n \\times 1}$ é impossível, já que se os pontos não forem alinhados, não existirá reta. Mas, podemos multiplicar um elemento dos dois lados, pela esquerda:\n",
    "\n",
    "$$A^T_{2 \\times n} \\cdot A_{n \\times 2} \\cdot \\vec{x}_{2 \\times 1} = A^T_{2 \\times n} \\cdot \\vec{y}_{n \\times 1}$$\n",
    "\n",
    "Assim, se o grau do polinômio desejável for $m+1$, sempre será possível obter uma solução, com as partes sendo:\n",
    "\n",
    "$$\n",
    "A^TA = \n",
    "\\begin{pmatrix}\n",
    "n & \\sum x_i & \\sum x_i^2 & \\cdots & \\sum x_i^m \\\\\n",
    "\\sum x_i & \\sum x_i^2 & \\sum x_i^3 & \\cdots & \\sum x_i^{m+1} \\\\\n",
    "\\sum x_i^2 & \\sum x_i^3 & \\sum x_i^4 & \\cdots & \\sum x_i^{m+2} \\\\\n",
    "\\vdots & \\vdots & \\vdots & \\ddots & \\vdots \\\\\n",
    "\\sum x_i^{m} & \\sum x_i^{m+1} & \\sum x_i^{m+2} & \\cdots & \\sum x_i^{2m} \\\\\n",
    "\\end{pmatrix}\n",
    "$$\n",
    "\n",
    "$$\n",
    "A^T\\vec{y} = \n",
    "\\begin{pmatrix}\n",
    "\\sum y_i \\\\\n",
    "\\sum y_ix_i \\\\\n",
    "\\sum y_ix_i^2 \\\\\n",
    "\\vdots \\\\\n",
    "\\sum y_ix_{m}\n",
    "\\end{pmatrix}\n",
    "$$\n",
    "\n",
    "Nota: Se $n-1=m$, não é feito ajuste de curvas, é feito interpolação."
   ]
  },
  {
   "cell_type": "code",
   "execution_count": 3,
   "id": "6e8f3c51",
   "metadata": {},
   "outputs": [
    {
     "name": "stdout",
     "output_type": "stream",
     "text": [
      "[1 0] [0]\n",
      "[1 1] [2]\n",
      "[1 2] [1]\n",
      "[1 3] [3]\n",
      "[1 4] [5]\n",
      "[1 5] [7]\n",
      "[1 6] [4]\n",
      "[1 7] [6]\n"
     ]
    }
   ],
   "source": [
    "A = np.array([[x**i for i in range(d)] for x,_ in P])\n",
    "B = np.array([[y] for _,y in P])\n",
    "if B.shape[0]!=A.shape[0] : B = B.T\n",
    "assert A.shape[0]==B.shape[0]\n",
    "\n",
    "for x,y in zip(A,B) : print(x,y)"
   ]
  },
  {
   "cell_type": "code",
   "execution_count": 4,
   "id": "4e60321b",
   "metadata": {},
   "outputs": [
    {
     "name": "stdout",
     "output_type": "stream",
     "text": [
      "[[0.5       ]\n",
      " [0.85714286]]\n"
     ]
    },
    {
     "data": {
      "image/png": "[encoded data removed]",
      "text/plain": [
       "<Figure size 780x390 with 1 Axes>"
      ]
     },
     "metadata": {},
     "output_type": "display_data"
    }
   ],
   "source": [
    "C = A.T.dot(A)\n",
    "D = A.T.dot(B)\n",
    "#print(C,D,sep='\\n')\n",
    "\n",
    "coef = linsys.invMatSolve(C,D)\n",
    "print(coef)\n",
    "\n",
    "f = lambda x : sum(coef[i]*(x**i) for i in range(len(coef)))\n",
    "xarr = np.linspace(P[0][0],P[-1][0],100)\n",
    "\n",
    "plt.figure(figsize=(6, 3), dpi=130)\n",
    "plt.plot(xarr, f(xarr), 'red', label=\"Polinômio Ajustado\")\n",
    "for x,y in P : plt.plot(x, y, 'bo')\n",
    "plt.show()"
   ]
  },
  {
   "cell_type": "markdown",
   "id": "81f303e3",
   "metadata": {},
   "source": [
    "### Coeficiente de determinação ($R^2$)\n",
    "\n",
    "O $R^2$ define-se como a razão entre um ajuste bom e um ajuste ruim.\n",
    "\n",
    "<img src=\"r2.png\" style=\"width: 40%;\"></img>\n",
    "\n",
    "O ajuste ruim será o ajuste médio $\\bar{D}$, tal que:\n",
    "\n",
    "$$\\bar{D} = \\sum_{i=1}^n (y_i - \\bar{y})^2; \\bar{y} = \\frac{\\sum_{i=1}^n y_i}{n}$$\n",
    "\n",
    "Note que $\\bar{D}\\geq\\hat{D}$.\n",
    "\n",
    "A partir disso, podemos calcular o coeficiente:\n",
    "\n",
    "$$R^2 = 1 - \\frac{\\hat{D}}{\\bar{D}}$$\n",
    "\n",
    "Com a subtração, e considerando que é uma fração própria, $0 \\leq R^2 \\leq 1$."
   ]
  },
  {
   "cell_type": "code",
   "execution_count": 5,
   "id": "79e949ae",
   "metadata": {},
   "outputs": [
    {
     "name": "stdout",
     "output_type": "stream",
     "text": [
      "[0.73469388]\n"
     ]
    }
   ],
   "source": [
    "avg = sum(y for _,y in P)/len(P)\n",
    "r2 = 1-sum((y-f(x))**2 for x,y in P)/sum((y-avg)**2 for _,y in P)\n",
    "\n",
    "print(r2)"
   ]
  }
 ],
 "metadata": {
  "kernelspec": {
   "display_name": "Python 3",
   "language": "python",
   "name": "python3"
  },
  "language_info": {
   "codemirror_mode": {
    "name": "ipython",
    "version": 3
   },
   "file_extension": ".py",
   "mimetype": "text/x-python",
   "name": "python",
   "nbconvert_exporter": "python",
   "pygments_lexer": "ipython3",
   "version": "3.9.6"
  }
 },
 "nbformat": 4,
 "nbformat_minor": 5
}
