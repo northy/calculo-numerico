{
 "cells": [
  {
   "cell_type": "markdown",
   "id": "9fdc7d90",
   "metadata": {},
   "source": [
    "# Linearização\n",
    "\n",
    "Ajuste linearizado de curvas ou retas que não geram um sistema linear\n",
    "\n",
    "#### Importar as biblioteas"
   ]
  },
  {
   "cell_type": "code",
   "execution_count": 1,
   "id": "aea87368",
   "metadata": {},
   "outputs": [],
   "source": [
    "%matplotlib inline\n",
    "%reload_ext autoreload\n",
    "%autoreload 2\n",
    "\n",
    "import sys, os, inspect\n",
    "currentdir = os.path.dirname(os.path.abspath(inspect.getfile(inspect.currentframe())))\n",
    "parentdir = os.path.dirname(currentdir)\n",
    "sys.path.insert(0, parentdir)\n",
    "\n",
    "import plot\n",
    "import numpy as np\n",
    "import matplotlib.pyplot as plt\n",
    "\n",
    "import adjust\n",
    "import sistemas_lineares.linsys as linsys"
   ]
  },
  {
   "cell_type": "markdown",
   "id": "eefa6970",
   "metadata": {},
   "source": [
    "## Ajuste Linearizado\n",
    "\n",
    "**Exemplo:** Fazer o ajuste da função $y=Ae^{Bx}$ para $P_1 = (x_1,y_1), P_2 = (x_2,y_2), \\cdots, P_n = (x_n,y_n)$.\n",
    "\n",
    "As equações seriam:\n",
    "\n",
    "$P_1 : y_1 = A \\cdot e^{Bx_1}$\n",
    "\n",
    "$P_2 : y_2 = A \\cdot e^{Bx_2}$\n",
    "\n",
    "$\\vdots$\n",
    "\n",
    "$P_n : y_n = A \\cdot e^{Bx_n}$\n",
    "\n",
    "Essas equações não configuram um sistema de equações lineares algébricas (S.E.L.A.).\n",
    "\n",
    "Para isso, precisamos transformar a equação:\n",
    "\n",
    "$\\ln [y = A \\cdot e^{Bx}]$\n",
    "\n",
    "$\\ln y = \\ln (A \\cdot e^{Bx})$\n",
    "\n",
    "Pela propriedade dos logarítmos:\n",
    "\n",
    "$ln y = \\ln A + \\ln e^{Bx}$\n",
    "\n",
    "$$\\underbrace{\\ln y}_{Y} = \\underbrace{\\ln A}_{a_0} + Bx$$\n",
    "\n",
    "**Nota : a partir do passo acima, a solução torna-se não ótima (sub-ótima)}**\n",
    "\n",
    "A partir desta definição, temos:\n",
    "\n",
    "$Y = \\ln y$\n",
    "\n",
    "$a_0 = \\ln A \\implies A = e^{a_0}$\n",
    "\n",
    "Assim, o sistema resultante é:\n",
    "\n",
    "$$\n",
    "\\begin{pmatrix}\n",
    "1 & x_1 \\\\\n",
    "1 & x_2 \\\\\n",
    "1 & x_3 \\\\\n",
    "\\vdots & \\vdots \\\\\n",
    "1 & x_n\n",
    "\\end{pmatrix}\n",
    "\\cdot\n",
    "\\begin{pmatrix}\n",
    "a_0 \\\\\n",
    "B\n",
    "\\end{pmatrix}\n",
    "=\n",
    "\\begin{pmatrix}\n",
    "Y_1 \\\\\n",
    "Y_2 \\\\\n",
    "Y_3 \\\\\n",
    "\\vdots \\\\\n",
    "Y_n\n",
    "\\end{pmatrix}\n",
    "$$\n",
    "\n",
    "Esse sistema é linear, porém também é sobredeterminado, usa-se as equações normais de um ajuste convencional a partir deste ponto.\n",
    "\n",
    "#### Definir o conjunto de pontos"
   ]
  },
  {
   "cell_type": "code",
   "execution_count": 2,
   "id": "7b581fec",
   "metadata": {},
   "outputs": [
    {
     "name": "stdout",
     "output_type": "stream",
     "text": [
      "[[ 4.81746242]\n",
      " [-0.40235948]]\n"
     ]
    },
    {
     "data": {
      "image/png": "[encoded data removed]",
      "text/plain": [
       "<Figure size 780x390 with 1 Axes>"
      ]
     },
     "metadata": {},
     "output_type": "display_data"
    }
   ],
   "source": [
    "P = [[0, 5],\n",
    "     [2, 2],\n",
    "     [4, 1]]\n",
    "\n",
    "A = np.array([[x**i for i in range(2)] for x,_ in P])\n",
    "B = np.array([[np.log(y)] for _,y in P])\n",
    "\n",
    "coef_adj = adjust.solve_normal_eq(A,B)\n",
    "coef_adj[0] = np.e**coef_adj[0] # Ajustar para A\n",
    "\n",
    "print(coef_adj)\n",
    "\n",
    "f = lambda x : coef_adj[0]*np.e**(coef_adj[1]*x)\n",
    "xarr = np.linspace(P[0][0],P[-1][0],100)\n",
    "\n",
    "plt.figure(figsize=(6, 3), dpi=130)\n",
    "plt.plot(xarr, f(xarr), 'red', label=\"Função Ajustada\")\n",
    "for x,y in P : plt.plot(x, y, 'bo')\n",
    "plt.show()"
   ]
  }
 ],
 "metadata": {
  "kernelspec": {
   "display_name": "Python 3",
   "language": "python",
   "name": "python3"
  },
  "language_info": {
   "codemirror_mode": {
    "name": "ipython",
    "version": 3
   },
   "file_extension": ".py",
   "mimetype": "text/x-python",
   "name": "python",
   "nbconvert_exporter": "python",
   "pygments_lexer": "ipython3",
   "version": "3.9.6"
  }
 },
 "nbformat": 4,
 "nbformat_minor": 5
}
