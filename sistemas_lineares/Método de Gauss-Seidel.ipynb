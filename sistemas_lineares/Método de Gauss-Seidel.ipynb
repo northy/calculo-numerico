{
 "cells": [
  {
   "cell_type": "markdown",
   "id": "54444d5e",
   "metadata": {},
   "source": [
    "# Método de Gauss-Seidel para Sistemas de Equações Lineares Algébricas (S.E.L.A.)"
   ]
  },
  {
   "cell_type": "markdown",
   "id": "b1c2bd42",
   "metadata": {},
   "source": [
    "### Importar as biblioteas"
   ]
  },
  {
   "cell_type": "code",
   "execution_count": 1,
   "id": "89568650",
   "metadata": {},
   "outputs": [],
   "source": [
    "%matplotlib inline\n",
    "%reload_ext autoreload\n",
    "%autoreload 2\n",
    "\n",
    "import numpy as np\n",
    "import matplotlib.pyplot as plt"
   ]
  },
  {
   "cell_type": "markdown",
   "id": "9d15ec03",
   "metadata": {},
   "source": [
    "### Definir o sistema\n",
    "\n",
    "$$\\begin{equation}\n",
    "\\begin{cases}\n",
    "    3x+2y=6\\\\\n",
    "    2x+3y=5\n",
    "\\end{cases}\n",
    "\\end{equation}$$\n",
    "\n",
    "### Forma matricial:\n",
    "\n",
    "$$\\begin{pmatrix}\n",
    "3 & 2\\\\\n",
    "2 & 3\n",
    "\\end{pmatrix} \\cdot \\begin{pmatrix}\n",
    "x\\\\\n",
    "y\n",
    "\\end{pmatrix} = \\begin{pmatrix}\n",
    "6\\\\\n",
    "5\n",
    "\\end{pmatrix}$$"
   ]
  },
  {
   "cell_type": "code",
   "execution_count": 2,
   "id": "d22bd2e2",
   "metadata": {},
   "outputs": [],
   "source": [
    "A = np.array([[3,2],\n",
    "              [2,3]])\n",
    "\n",
    "b = np.array([[6],\n",
    "              [5]])\n",
    "\n",
    "e = 1e-6"
   ]
  },
  {
   "cell_type": "markdown",
   "id": "0c1db572",
   "metadata": {},
   "source": [
    "### Critérios de parada:\n",
    "\n",
    "1. $|A \\cdot \\vec{x}^{^{(n+1)}}-\\vec{b}| < \\epsilon$\n",
    "2. $|\\vec{x}^{^{(n+1)}}-\\vec{x}^{^{(n)}}| < \\epsilon$"
   ]
  },
  {
   "cell_type": "code",
   "execution_count": 3,
   "id": "b53cd483",
   "metadata": {},
   "outputs": [],
   "source": [
    "def criterio1(A,x,b,e) :\n",
    "    return np.linalg.norm(A.dot(x)-b)<e\n",
    "\n",
    "def criterio2(xnew,xold,e) :\n",
    "    return np.linalg.norm(xnew-xold)<e"
   ]
  },
  {
   "cell_type": "markdown",
   "id": "f7f296eb",
   "metadata": {},
   "source": [
    "### Passos\n",
    "\n",
    "1) Dividir (A|b) pelos elementos da diagonal principal, resulta em (F|d)."
   ]
  },
  {
   "cell_type": "code",
   "execution_count": 4,
   "id": "47282341",
   "metadata": {},
   "outputs": [
    {
     "name": "stdout",
     "output_type": "stream",
     "text": [
      "[[1.         0.66666667]\n",
      " [0.66666667 1.        ]] (2, 2)\n",
      "[[2.        ]\n",
      " [1.66666667]] (2, 1)\n"
     ]
    }
   ],
   "source": [
    "F = []\n",
    "d = []\n",
    "\n",
    "for i in range(len(A)) :\n",
    "    F.append(A[i]/A[i][i])\n",
    "    d.append(b[i]/A[i][i])\n",
    "\n",
    "F = np.array(F)\n",
    "d = np.array(d).reshape(-1,1)\n",
    "\n",
    "print(F, F.shape)\n",
    "print(d, d.shape)"
   ]
  },
  {
   "cell_type": "markdown",
   "id": "3d207eef",
   "metadata": {},
   "source": [
    "2) Executar até o critério de parada\n",
    "\n",
    "$A \\vec{x} = \\vec{b}; det A \\neq \\emptyset$\n",
    "\n",
    "$(L+D+U)\\vec{x}=\\vec{b}$\n",
    "\n",
    "$(L+D)\\vec{x} + U\\vec{x}=\\vec{b}$\n",
    "\n",
    "$(L+D)\\vec{x}^{^{(n+1)}} \\approx \\vec{b} - U\\vec{x}{^{(n)}}$\n",
    "\n",
    "$(L+D)^{-1}(L+D)\\vec{x}^{^{(n+1)}} \\approx (L+D)^{-1} \\cdot [\\vec{b} - U\\vec{x}{^{(n)}}]$\n",
    "\n",
    "$$\\vec{x}^{^{(n+1)}} \\approx (L+D)^{-1}\\vec{b} - (L+D)^{-1}U\\vec{x}{^{(n)}}$$"
   ]
  },
  {
   "cell_type": "code",
   "execution_count": 5,
   "id": "648ade5a",
   "metadata": {
    "scrolled": true
   },
   "outputs": [],
   "source": [
    "x = np.zeros(b.shape)\n",
    "resultsx = [0]\n",
    "resultsy = [0]\n",
    "n = 0\n",
    "\n",
    "U = np.triu(F,1) # Upper Triangle\n",
    "L = np.tril(F,-1) # Lower Triangle\n",
    "D = F-U-L # Main Diagonal\n",
    "LDI = np.linalg.inv(L + D)\n",
    "\n",
    "while not(criterio1(A,x,b,e)) and n<200 :\n",
    "    x = LDI.dot(d) - LDI.dot(U).dot(x)\n",
    "    \n",
    "    resultsx.append(x[0][0])\n",
    "    resultsy.append(x[1][0])\n",
    "    \n",
    "    n+=1"
   ]
  },
  {
   "cell_type": "code",
   "execution_count": 6,
   "id": "36de41d3",
   "metadata": {
    "scrolled": false
   },
   "outputs": [
    {
     "name": "stdout",
     "output_type": "stream",
     "text": [
      "Convergência (18 iterações):\n"
     ]
    },
    {
     "data": {
      "image/png": "[encoded data removed]",
      "text/plain": [
       "<Figure size 432x288 with 1 Axes>"
      ]
     },
     "metadata": {
      "needs_background": "light"
     },
     "output_type": "display_data"
    },
    {
     "name": "stdout",
     "output_type": "stream",
     "text": [
      "Solução\n",
      "[[1.60000041]\n",
      " [0.59999973]]\n",
      "\n",
      "Resultado\n",
      "[[6.00000069]\n",
      " [5.        ]]\n",
      "\n",
      "Diferença\n",
      "[[6.86761488e-07]\n",
      " [0.00000000e+00]]\n",
      "6.867614876782113e-07\n",
      "\n"
     ]
    }
   ],
   "source": [
    "print(f\"Convergência ({n} iterações):\")\n",
    "\n",
    "plt.plot(resultsx, resultsy)\n",
    "plt.show()\n",
    "\n",
    "print(\"Solução\",x,sep='\\n',end='\\n\\n')\n",
    "print(\"Resultado\",A.dot(x),sep='\\n',end='\\n\\n')\n",
    "print(\"Diferença\",A.dot(x)-b,np.linalg.norm(A.dot(x)-b),sep='\\n',end='\\n\\n')"
   ]
  },
  {
   "cell_type": "markdown",
   "id": "c47b149c",
   "metadata": {},
   "source": [
    "***\n",
    "\n",
    "### Forma equacional\n",
    "\n",
    "Para cada $x_i$:\n",
    "\n",
    "$$x_i^{(k+1)} = \\frac{b_i - \\cdots - a_{i(i-2)}x_{(i-2)}^{(k)} - a_{i(i-1)}x_{(i-1)}^{(k)} - a_{i(i+1)}x_{(i+1)}^{(k)} - a_{i(i+2)}x_{(i+2)}^{(k)} - \\cdots - a_{in}x_n^{(k)}}{a_{ii}}$$\n",
    "\n",
    "Imediatamente atualiza os valores de x após executar as operações da iteração $k$."
   ]
  },
  {
   "cell_type": "code",
   "execution_count": 7,
   "id": "40a9c260",
   "metadata": {},
   "outputs": [],
   "source": [
    "x = np.zeros(b.shape)\n",
    "n = 0\n",
    "\n",
    "resultsx = [0]\n",
    "resultsy = [0]\n",
    "\n",
    "while not(criterio1(A,x,b,e)) and n<200 :\n",
    "    for i in range(len(A)) :\n",
    "        x[i] = (b[i][0] - (np.sum(A[i].dot(x)) - A[i][i]*x[i][0]))/A[i][i]\n",
    "    resultsx.append(x[0][0])\n",
    "    resultsy.append(x[1][0])\n",
    "    n+=1"
   ]
  },
  {
   "cell_type": "code",
   "execution_count": 8,
   "id": "5b07f5c8",
   "metadata": {},
   "outputs": [
    {
     "name": "stdout",
     "output_type": "stream",
     "text": [
      "Convergência (18 iterações):\n"
     ]
    },
    {
     "data": {
      "image/png": "[encoded data removed]",
      "text/plain": [
       "<Figure size 432x288 with 1 Axes>"
      ]
     },
     "metadata": {
      "needs_background": "light"
     },
     "output_type": "display_data"
    },
    {
     "name": "stdout",
     "output_type": "stream",
     "text": [
      "Solução\n",
      "[[1.60000041]\n",
      " [0.59999973]]\n",
      "\n",
      "Resultado\n",
      "[[6.00000069]\n",
      " [5.        ]]\n",
      "\n",
      "Diferença\n",
      "[[6.86761488e-07]\n",
      " [0.00000000e+00]]\n",
      "6.867614876782113e-07\n",
      "\n"
     ]
    }
   ],
   "source": [
    "print(f\"Convergência ({n} iterações):\")\n",
    "\n",
    "plt.plot(resultsx,resultsy)\n",
    "plt.show()\n",
    "\n",
    "print(\"Solução\",x,sep='\\n',end='\\n\\n')\n",
    "print(\"Resultado\",A.dot(x),sep='\\n',end='\\n\\n')\n",
    "print(\"Diferença\",A.dot(x)-b,np.linalg.norm(A.dot(x)-b),sep='\\n',end='\\n\\n')"
   ]
  }
 ],
 "metadata": {
  "kernelspec": {
   "display_name": "Python 3",
   "language": "python",
   "name": "python3"
  },
  "language_info": {
   "codemirror_mode": {
    "name": "ipython",
    "version": 3
   },
   "file_extension": ".py",
   "mimetype": "text/x-python",
   "name": "python",
   "nbconvert_exporter": "python",
   "pygments_lexer": "ipython3",
   "version": "3.9.6"
  }
 },
 "nbformat": 4,
 "nbformat_minor": 5
}
