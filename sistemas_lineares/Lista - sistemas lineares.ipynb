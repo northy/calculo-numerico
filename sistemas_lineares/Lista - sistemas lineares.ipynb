{
 "cells": [
  {
   "cell_type": "markdown",
   "id": "c5291732",
   "metadata": {},
   "source": [
    "# Lista de exercícios cálculo numérico"
   ]
  },
  {
   "cell_type": "markdown",
   "id": "109cb7bf",
   "metadata": {},
   "source": [
    "## Bibliotecas:"
   ]
  },
  {
   "cell_type": "code",
   "execution_count": 1,
   "id": "60e69831",
   "metadata": {},
   "outputs": [],
   "source": [
    "%matplotlib inline\n",
    "%reload_ext autoreload\n",
    "%autoreload 2\n",
    "\n",
    "import sys, os, inspect\n",
    "import numpy as np\n",
    "import matplotlib.pyplot as plt\n",
    "from IPython.display import display, Markdown\n",
    "\n",
    "import plot\n",
    "import math\n",
    "import jacobi, gauss_seidel, linsys"
   ]
  },
  {
   "cell_type": "markdown",
   "id": "94eea52f",
   "metadata": {},
   "source": [
    "## EXERCÍCIOS SOBRE SISTEMAS LINEARES"
   ]
  },
  {
   "cell_type": "markdown",
   "id": "5fc034ff",
   "metadata": {},
   "source": [
    "### 1. Determine os coeficientes a e b da reta que passa pelos pontos $P_1=(1,2)$ e $P_2=(3,5)$\n",
    "Sugestão: substitua as coordenadas dos pontos $P_1$ e $P_2$ na equação $y = ax +b$ e\n",
    "construa um sistema linear onde as incógnitas são $a$ e $b$ . Resolva o sistema\n",
    "usando o Método de Gauss-Seidel. Use $\\epsilon = 10^{-2}$."
   ]
  },
  {
   "cell_type": "code",
   "execution_count": 2,
   "id": "265a7883",
   "metadata": {},
   "outputs": [
    {
     "name": "stdout",
     "output_type": "stream",
     "text": [
      "Resultado exato:\n",
      "[[1.5]\n",
      " [0.5]]\n",
      "Resultado estimado (5 iterações):\n",
      "[[1.50205761]\n",
      " [0.49794239]]\n"
     ]
    }
   ],
   "source": [
    "A = np.array([[3,1],\n",
    "              [1,1]])\n",
    "b = np.array([[5],\n",
    "              [2]])\n",
    "\n",
    "res = gauss_seidel.solve(A,b,1e-2,100)\n",
    "print(\"Resultado exato:\", linsys.invMatSolve(A,b), sep='\\n')\n",
    "print(f\"Resultado estimado ({res[1]} iterações):\", res[0],sep='\\n')"
   ]
  },
  {
   "cell_type": "markdown",
   "id": "5e76c828",
   "metadata": {},
   "source": [
    "### 2. Os ensaios de tração realizados em uma barra de aço apresentaram os seguintes resultados:\n",
    "\n",
    "| $i$ | $$\\epsilon (m)$$ | $$\\sigma (kPa)$$ |\n",
    "|:---:|:----------------:|:----------------:|\n",
    "|  1  |       0.012      |        20        |\n",
    "|  2  |        0.02      |        40        |\n",
    "\n",
    "Onde i é o número da medida ($i=1,2,...$), $\\sigma$ é a Tensão (eixo vertical) e $\\epsilon$ é a Deformação (eixo horizontal).\n",
    "\n",
    "* a) Faça um gráfico de Tensão pela Deformação.\n",
    "* b) Supondo que a deformação no intervalo é elástica, utilize o conhecimento do Ex.1 para determinar a e b da equação de Tensão-Deformação.\n",
    "\n",
    "$$\\sigma (\\epsilon) = a \\epsilon + b$$"
   ]
  },
  {
   "cell_type": "code",
   "execution_count": 3,
   "id": "979e1026",
   "metadata": {},
   "outputs": [
    {
     "name": "stdout",
     "output_type": "stream",
     "text": [
      "Resultado exato:\n",
      "[[2500.]\n",
      " [ -10.]]\n",
      "Resultado estimado (45 iterações):\n",
      "[[2499.99999991]\n",
      " [ -10.        ]]\n"
     ]
    },
    {
     "data": {
      "image/png": "[encoded data removed]",
      "text/plain": [
       "<Figure size 780x390 with 1 Axes>"
      ]
     },
     "metadata": {},
     "output_type": "display_data"
    }
   ],
   "source": [
    "A = np.array([[0.02,1],\n",
    "              [0.012,1]])\n",
    "b = np.array([[40],\n",
    "              [20]])\n",
    "\n",
    "res = gauss_seidel.solve(A,b,1e-9,100)\n",
    "print(\"Resultado exato:\", linsys.invMatSolve(A,b), sep='\\n')\n",
    "print(f\"Resultado estimado ({res[1]} iterações):\", res[0],sep='\\n')\n",
    "\n",
    "func = lambda e : res[0][0]*e + res[0][1]\n",
    "xarr = np.linspace(0,0.1,100)\n",
    "plot.plot(xarr,func(xarr))"
   ]
  },
  {
   "cell_type": "markdown",
   "id": "f69c36bf",
   "metadata": {},
   "source": [
    "### 3) Determine os coeficientes A, B e C da parábola que passa pelos pontos $P_1=(0,1)$, $P_2=(0.5,1.5)$ e $P_3=(1.2,2)$.\n",
    "\n",
    "Sugestão: substitua as coordenadas dos pontos $P_1$, $P_2$ e $P_3$ na equação y = $Ax^2 +Bx+C$ e construa um sistema linear onde as incógnitas são $A$, $B$ e $C$.\n",
    "\n",
    "Resolva o sistema usando o Método de Gauss-Seidel. Use $\\epsilon = 10^{-2}$."
   ]
  },
  {
   "cell_type": "code",
   "execution_count": 4,
   "id": "0e750c50",
   "metadata": {},
   "outputs": [
    {
     "name": "stdout",
     "output_type": "stream",
     "text": [
      "Resultado exato:\n",
      "[[-0.23809524]\n",
      " [ 1.11904762]\n",
      " [ 1.        ]]\n",
      "Resultado estimado (8 iterações):\n",
      "[[-0.24326918]\n",
      " [ 1.12163459]\n",
      " [ 1.        ]]\n"
     ]
    }
   ],
   "source": [
    "A = np.array([[1.44,1.2,1],\n",
    "              [0.25,0.5,1],\n",
    "              [   0,  0,1]])\n",
    "b = np.array([[  2],\n",
    "              [1.5],\n",
    "              [  1]])\n",
    "\n",
    "res = gauss_seidel.solve(A,b,1e-2,100)\n",
    "print(\"Resultado exato:\", linsys.invMatSolve(A,b), sep='\\n')\n",
    "print(f\"Resultado estimado ({res[1]} iterações):\", res[0],sep='\\n')"
   ]
  },
  {
   "cell_type": "markdown",
   "id": "58fb7ac8",
   "metadata": {},
   "source": [
    "### 4) Um objeto desloca-se em queda-livre. Determine a posição inicial ($y_o$), a velocidade inicial ($v_o$) e a gravidade ($g$), sabendo os valores da posição $y$ e do tempo $t$ em três instantes, dados pela tabela.\n",
    "\n",
    "Utilize a equação $y(t) = y_o + v_o t – At^2$, onde $A=\\frac{g}{2}$.\n",
    "\n",
    "| i |  $$t(s)$$ | $$y(m)$$ |\n",
    "|:-:|:---------:|:--------:|\n",
    "| 1 |    0,0    |     4    |\n",
    "| 2 |    0,6    |   2,23   |\n",
    "| 3 |    1,0    |  -0,91   |"
   ]
  },
  {
   "cell_type": "code",
   "execution_count": 5,
   "id": "5a01c2f0",
   "metadata": {},
   "outputs": [
    {
     "name": "stdout",
     "output_type": "stream",
     "text": [
      "Resultado exato:\n",
      "[[ 4.  ]\n",
      " [-0.01]\n",
      " [ 4.9 ]]\n",
      "Resultado estimado (41 iterações):\n",
      "[[ 4.  ]\n",
      " [-0.01]\n",
      " [ 4.9 ]]\n"
     ]
    },
    {
     "data": {
      "text/markdown": [
       "$y_0 = [4.]$\n",
       "\n",
       "$v_0 = [-0.01]$\n",
       "\n",
       "$g = [9.79999999]$"
      ],
      "text/plain": [
       "<IPython.core.display.Markdown object>"
      ]
     },
     "metadata": {},
     "output_type": "display_data"
    }
   ],
   "source": [
    "A = np.array([[1,  0,    0],\n",
    "              [1,0.6,-0.36],\n",
    "              [1,  1,   -1]])\n",
    "b = np.array([[    4],\n",
    "              [ 2.23],\n",
    "              [-0.91]])\n",
    "\n",
    "res = gauss_seidel.solve(A,b,1e-9,100)\n",
    "print(\"Resultado exato:\", linsys.invMatSolve(A,b), sep='\\n')\n",
    "print(f\"Resultado estimado ({res[1]} iterações):\", res[0],sep='\\n')\n",
    "\n",
    "y0 = res[0][0]\n",
    "v0 = res[0][1]\n",
    "g = res[0][2]*2\n",
    "\n",
    "display(Markdown(f\"$y_0 = {y0}$\\n\\n$v_0 = {v0}$\\n\\n$g = {g}$\"))"
   ]
  },
  {
   "cell_type": "markdown",
   "id": "edf2956c",
   "metadata": {},
   "source": [
    "### 5a) Teste o Método de Gauss-Seidel para o sistema:\n",
    "$$\\begin{equation}\n",
    "\\begin{cases}\n",
    "      x+2y-3z    = 2\\\\\n",
    "      3x+y-z     = 4\\\\\n",
    "      0,5x+y-5z  = 1\\\\\n",
    "    \\end{cases}\n",
    "\\end{equation}$$"
   ]
  },
  {
   "cell_type": "markdown",
   "id": "4ad07872",
   "metadata": {},
   "source": [
    "### 5b) Troque a posição das linhas e verifique a convergência do Método de Gauss-Seidel."
   ]
  },
  {
   "cell_type": "code",
   "execution_count": 6,
   "id": "5c5e1d66",
   "metadata": {},
   "outputs": [
    {
     "name": "stdout",
     "output_type": "stream",
     "text": [
      "Resultado exato:\n",
      "[[1.2]\n",
      " [0.4]\n",
      " [0. ]]\n",
      "Resultado estimado (100 iterações):\n",
      "[[ 1.07416222e+66]\n",
      " [-3.34298803e+66]\n",
      " [-5.61181384e+65]]\n",
      "Não converge pois a diagonal não é dominante (condição suficiente não satisfeita)\n",
      "\n",
      "Resultado estimado (3 iterações):\n",
      "[[1.2037037 ]\n",
      " [0.39814815]\n",
      " [0.        ]]\n"
     ]
    }
   ],
   "source": [
    "l1,a1 = [ 1,2,-3],[2]\n",
    "l2,a2 = [ 3,1,-1],[4]\n",
    "l3,a3 = [.5,1,-5],[1]\n",
    "\n",
    "A = np.array([l1,\n",
    "              l2,\n",
    "              l3])\n",
    "b = np.array([a1,\n",
    "              a2,\n",
    "              a3])\n",
    "\n",
    "res = gauss_seidel.solve(A,b,1e-2,100)\n",
    "print(\"Resultado exato:\", linsys.invMatSolve(A,b), sep='\\n')\n",
    "print(f\"Resultado estimado ({res[1]} iterações):\", res[0],sep='\\n')\n",
    "print(\"Não converge pois a diagonal não é dominante (condição suficiente não satisfeita)\")\n",
    "\n",
    "A = np.array([l2,\n",
    "              l1,\n",
    "              l3])\n",
    "b = np.array([a2,\n",
    "              a1,\n",
    "              a3])\n",
    "\n",
    "res = gauss_seidel.solve(A,b,1e-2,100)\n",
    "print(f\"\\nResultado estimado ({res[1]} iterações):\", res[0],sep='\\n')"
   ]
  }
 ],
 "metadata": {
  "kernelspec": {
   "display_name": "Python 3",
   "language": "python",
   "name": "python3"
  },
  "language_info": {
   "codemirror_mode": {
    "name": "ipython",
    "version": 3
   },
   "file_extension": ".py",
   "mimetype": "text/x-python",
   "name": "python",
   "nbconvert_exporter": "python",
   "pygments_lexer": "ipython3",
   "version": "3.9.6"
  }
 },
 "nbformat": 4,
 "nbformat_minor": 5
}
