{
 "cells": [
  {
   "cell_type": "markdown",
   "id": "7c0ea245",
   "metadata": {},
   "source": [
    "# Lista de exercícios cálculo numérico\n",
    "\n",
    "### Bibliotecas:"
   ]
  },
  {
   "cell_type": "code",
   "execution_count": 1,
   "id": "b3a7e7df",
   "metadata": {},
   "outputs": [],
   "source": [
    "%matplotlib inline\n",
    "%reload_ext autoreload\n",
    "%autoreload 2\n",
    "\n",
    "import sys, os, inspect\n",
    "import numpy as np\n",
    "import matplotlib.pyplot as plt\n",
    "from IPython.display import display, Markdown\n",
    "\n",
    "from functools import reduce\n",
    "import div_diff, fin_diff, lagrange"
   ]
  },
  {
   "cell_type": "markdown",
   "id": "10b212d2",
   "metadata": {},
   "source": [
    "## EXERCÍCIOS SOBRE SISTEMAS LINEARES"
   ]
  },
  {
   "cell_type": "markdown",
   "id": "ff0e2cb6",
   "metadata": {},
   "source": [
    "### 1. Dada a função $f(x) = x^2-2x+1$:\n",
    "\n",
    "* a) Faça uma tabela de valores de $x$ e $y$. Use $x = \\{0,2,4\\}$.\n",
    "* b) Interpole $x=1,5$ usando Lagrange.\n",
    "* c) Interpole $x=1,5$ usando Diferenças Divididas.\n",
    "* d) Interpole $x=1,5$ usando Diferenças Finitas.\n",
    "* e) Compare os resultados obtidos nas letras (b),(c) e (d) com $f(1,5)$.\n",
    "* f) Explique os resultados da letra (e)."
   ]
  },
  {
   "cell_type": "code",
   "execution_count": 2,
   "id": "3028a520",
   "metadata": {},
   "outputs": [
    {
     "name": "stdout",
     "output_type": "stream",
     "text": [
      "a)\n"
     ]
    },
    {
     "data": {
      "text/markdown": [
       "\n",
       "| x |  f(x)  |\n",
       "|---|--------|\n",
       "| 0 | 1 |\n",
       "| 2 | 1 |\n",
       "| 4 | 9 |\n"
      ],
      "text/plain": [
       "<IPython.core.display.Markdown object>"
      ]
     },
     "metadata": {},
     "output_type": "display_data"
    },
    {
     "name": "stdout",
     "output_type": "stream",
     "text": [
      "b) Lagrange: 0.25\n",
      "c) Diferenças divididas: 0.25\n",
      "d) Diferenças finitas: 0.25\n",
      "e) f(1,5): 0.25\n",
      "f) Os valores interpolados e exatos são iguais.\n"
     ]
    }
   ],
   "source": [
    "f = lambda x : x**2 - 2*x + 1\n",
    "\n",
    "print(\"a)\")\n",
    "display(Markdown(f\"\"\"\n",
    "| x |  f(x)  |\n",
    "|---|--------|\n",
    "| 0 | {f(0)} |\n",
    "| 2 | {f(2)} |\n",
    "| 4 | {f(4)} |\n",
    "\"\"\"))\n",
    "\n",
    "xi = [0,2,4]\n",
    "yi = [1,1,9]\n",
    "\n",
    "print(\"b) Lagrange:\", lagrange.solve(1.5,xi,yi))\n",
    "print(\"c) Diferenças divididas:\", div_diff.solve(1.5,xi,yi))\n",
    "print(\"d) Diferenças finitas:\", fin_diff.solve(1.5,xi,yi))\n",
    "print(\"e) f(1,5):\", f(1.5))\n",
    "\n",
    "print(\"f) Os valores interpolados e exatos são iguais.\")"
   ]
  },
  {
   "cell_type": "markdown",
   "id": "abded215",
   "metadata": {},
   "source": [
    "### 2. A Tabela abaixo apresenta a condutividade térmica da água ($k_f$) em função da temperatura. Calcule a condutividade para $T = 310 K$:\n",
    "\n",
    "|$T (K)$|295|300|320|340|\n",
    "|:-----|---|---|---|---|\n",
    "|$k_f(\\frac{W}{mK})x10^3$|606|613|640|660|\n",
    "\n",
    "* a) Usando interpolação linear.\n",
    "* b) Usando interpolação por diferenças divididas. Compare os resultados."
   ]
  },
  {
   "cell_type": "code",
   "execution_count": 3,
   "id": "c5be0d25",
   "metadata": {},
   "outputs": [
    {
     "name": "stdout",
     "output_type": "stream",
     "text": [
      "a) Lagrange: 626.925\n",
      "b) Diferenças divididas: 626.925\n"
     ]
    }
   ],
   "source": [
    "xi = [295,300,320,340]\n",
    "yi = [606,613,640,660]\n",
    "print(\"a) Lagrange:\", lagrange.solve(310,xi,yi))\n",
    "print(\"b) Diferenças divididas:\", div_diff.solve(310,xi,yi))"
   ]
  },
  {
   "cell_type": "markdown",
   "id": "18715251",
   "metadata": {},
   "source": [
    "### 3. Dada a função $f(x) = e^{2x}$ :\n",
    "\n",
    "* a) Faça uma tabela de valores de $x$ e $y$. Use $x = \\{0,1,2,3,4\\}$.\n",
    "* b) Interpole $x = 2,1$ usando Lagrange.\n",
    "* c) Interpole $x = 2,1$ usando Diferenças Divididas.\n",
    "* d) Interpole $x = 2,1$ usando Diferenças Finitas.\n",
    "* e) Compare os resultados obtidos nas letras (b), (c) e (d) com $f(2,1)$.\n",
    "* f) Explique os resultados da letra (e). (Compare com o Ex.1)"
   ]
  },
  {
   "cell_type": "code",
   "execution_count": 4,
   "id": "28ade1a6",
   "metadata": {},
   "outputs": [
    {
     "name": "stdout",
     "output_type": "stream",
     "text": [
      "a)\n"
     ]
    },
    {
     "data": {
      "text/markdown": [
       "\n",
       "| x |  f(x)  |\n",
       "|---|--------|\n",
       "| 0 | 1.0 |\n",
       "| 1 | 7.3890560989306495 |\n",
       "| 2 | 54.59815003314423 |\n",
       "| 3 | 403.428793492735 |\n",
       "| 4 | 2980.957987041727 |\n"
      ],
      "text/plain": [
       "<IPython.core.display.Markdown object>"
      ]
     },
     "metadata": {},
     "output_type": "display_data"
    },
    {
     "name": "stdout",
     "output_type": "stream",
     "text": [
      "b) Lagrange: 57.17090828520437\n",
      "c) Diferenças divididas: 57.17090828520437\n",
      "d) Diferenças finitas: 57.17090828520436\n",
      "e) f(1,5): 66.68633104092514\n",
      "f) Os valores interpolados e exatos não são iguais devida a natureza da função original não ser polinomial.\n"
     ]
    }
   ],
   "source": [
    "f = lambda x : np.e**(2*x)\n",
    "\n",
    "print(\"a)\")\n",
    "display(Markdown(f\"\"\"\n",
    "| x |  f(x)  |\n",
    "|---|--------|\n",
    "| 0 | {f(0)} |\n",
    "| 1 | {f(1)} |\n",
    "| 2 | {f(2)} |\n",
    "| 3 | {f(3)} |\n",
    "| 4 | {f(4)} |\n",
    "\"\"\"))\n",
    "\n",
    "xi = [   0,   1,   2,   3,   4]\n",
    "yi = [f(0),f(1),f(2),f(3),f(4)]\n",
    "\n",
    "print(\"b) Lagrange:\", lagrange.solve(2.1,xi,yi))\n",
    "print(\"c) Diferenças divididas:\", div_diff.solve(2.1,xi,yi))\n",
    "print(\"d) Diferenças finitas:\", fin_diff.solve(2.1,xi,yi))\n",
    "print(\"e) f(1,5):\", f(2.1))\n",
    "\n",
    "print(\"f) Os valores interpolados e exatos não são iguais devida a natureza da função original não ser polinomial.\")"
   ]
  },
  {
   "cell_type": "markdown",
   "id": "96b810f8",
   "metadata": {},
   "source": [
    "### 4. A velocidade do som na água varia com a temperatura. Usando os valores da tabela, determinar o valor aproximado da velocidade do som na água a $100^oC$.\n",
    "\n",
    "|Temperatura ($^oC$)|86|93,3|98,9|104,4|110|\n",
    "|:------------------|:-:|:--:|:--:|:---:|:-:|\n",
    "|Velocidade (m/s)|1552|1548|1544|1538|1532|"
   ]
  },
  {
   "cell_type": "code",
   "execution_count": 5,
   "id": "b04b2a19",
   "metadata": {},
   "outputs": [
    {
     "name": "stdout",
     "output_type": "stream",
     "text": [
      "1542.9392473388307\n"
     ]
    }
   ],
   "source": [
    "xi = [86,   93.3, 98.9, 104.4,  110]\n",
    "yi = [1552, 1548, 1544,  1538, 1532]\n",
    "\n",
    "print(div_diff.solve(100,xi,yi))"
   ]
  },
  {
   "cell_type": "markdown",
   "id": "78c4bc14",
   "metadata": {},
   "source": [
    "### 5. Dada a função $f(x) = 1/(1+x^2)$ (use o computador)\n",
    "\n",
    "* a) Faça uma tabela de valores de $x$ e $y$. Use $x = \\{-4,-3,-2,-1,0,1,2,3,4\\}$.\n",
    "* b) Faça um gráfico de $f(x)$ e da interpolação com diferenças finitas. Compare as curvas.\n",
    "* c) Verifique se a interpolação reproduz razoavelmente os pontos de $f(x)$."
   ]
  },
  {
   "cell_type": "code",
   "execution_count": 6,
   "id": "4efc907b",
   "metadata": {},
   "outputs": [
    {
     "name": "stdout",
     "output_type": "stream",
     "text": [
      "a)\n"
     ]
    },
    {
     "data": {
      "text/markdown": [
       "\n",
       "| x |  f(x)  |\n",
       "|---|--------|\n",
       "| -4 | 0.058823529411764705 |\n",
       "| -3 | 0.1 |\n",
       "| -2 | 0.2 |\n",
       "| -1 | 0.5 |\n",
       "| 0 | 1.0 |\n",
       "| 1 | 0.5 |\n",
       "| 2 | 0.2 |\n",
       "| 3 | 0.1 |\n",
       "| 4 | 0.058823529411764705 |\n"
      ],
      "text/plain": [
       "<IPython.core.display.Markdown object>"
      ]
     },
     "metadata": {},
     "output_type": "display_data"
    },
    {
     "name": "stdout",
     "output_type": "stream",
     "text": [
      "b)\n"
     ]
    },
    {
     "data": {
      "image/png": "[encoded data removed]",
      "text/plain": [
       "<Figure size 780x390 with 1 Axes>"
      ]
     },
     "metadata": {
      "needs_background": "light"
     },
     "output_type": "display_data"
    },
    {
     "data": {
      "text/markdown": [
       "c) Os resultados reproduzem perfeitamente para os pontos conhecidos, pela definição dos métodos de interpolação. Resultados próximos aos pontos de [-3,3] tem um resultado rasoavelmente satisfatório, mas os pontos de [-4,-3] e [3,4] ficam com uma disparidade razoavelmente grande."
      ],
      "text/plain": [
       "<IPython.core.display.Markdown object>"
      ]
     },
     "metadata": {},
     "output_type": "display_data"
    }
   ],
   "source": [
    "f = lambda x : 1/(1+x**2)\n",
    "\n",
    "xi = [-4,-3,-2,-1,0,1,2,3,4]\n",
    "yi = [f(x) for x in xi]\n",
    "\n",
    "print(\"a)\")\n",
    "display(Markdown(''.join([\"\"\"\n",
    "| x |  f(x)  |\n",
    "|---|--------|\n",
    "\"\"\"]+[f\"| {x} | {y} |\\n\" for x,y in zip(xi,yi)])))\n",
    "\n",
    "print(\"b)\")\n",
    "\n",
    "h = xi[1]-xi[0]\n",
    "z = lambda x : (x - xi[0])/h\n",
    "linoperator = lambda n,i : yi[i] if n==0 else linoperator(n-1,i+1) - linoperator(n-1,i)\n",
    "polnewton = lambda x : yi[0]+sum((linoperator(i,0)/np.math.factorial(i))*reduce(lambda a,b : a*b, [z(x)-j for j in range(i)], 1) for i in range(1,len(xi)))\n",
    "\n",
    "plt.figure(figsize=(6, 3), dpi=130)\n",
    "\n",
    "plt.axhline(0, color='black')\n",
    "plt.axvline(0, color='black')\n",
    "\n",
    "xarr = np.linspace(xi[0],xi[-1],100)\n",
    "plt.plot(xarr,f(xarr), label=\"f(x)\")\n",
    "plt.scatter(xi, yi)\n",
    "\n",
    "for px,py in zip(xi,yi) : plt.plot(px, py, 'bo')\n",
    "\n",
    "plt.plot(xarr,polnewton(xarr),color='red', label=\"Polinômio Calculado\")\n",
    "\n",
    "plt.legend(loc=\"upper left\")\n",
    "\n",
    "plt.show()\n",
    "\n",
    "display(Markdown(\"c) Os resultados reproduzem perfeitamente para os pontos conhecidos, pela definição dos métodos de interpolação. Resultados próximos aos pontos de [-3,3] tem um resultado rasoavelmente satisfatório, mas os pontos de [-4,-3] e [3,4] ficam com uma disparidade razoavelmente grande.\"))"
   ]
  }
 ],
 "metadata": {
  "kernelspec": {
   "display_name": "Python 3",
   "language": "python",
   "name": "python3"
  },
  "language_info": {
   "codemirror_mode": {
    "name": "ipython",
    "version": 3
   },
   "file_extension": ".py",
   "mimetype": "text/x-python",
   "name": "python",
   "nbconvert_exporter": "python",
   "pygments_lexer": "ipython3",
   "version": "3.9.6"
  }
 },
 "nbformat": 4,
 "nbformat_minor": 5
}
