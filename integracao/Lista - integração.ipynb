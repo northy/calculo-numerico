{
 "cells": [
  {
   "cell_type": "markdown",
   "id": "8e618162",
   "metadata": {},
   "source": [
    "# Lista de exercícios cálculo numérico\n",
    "\n",
    "### Bibliotecas:"
   ]
  },
  {
   "cell_type": "code",
   "execution_count": 1,
   "id": "3f14cba8",
   "metadata": {},
   "outputs": [],
   "source": [
    "%matplotlib inline\n",
    "%reload_ext autoreload\n",
    "%autoreload 2\n",
    "\n",
    "import sys, os, inspect\n",
    "import numpy as np\n",
    "import matplotlib.pyplot as plt\n",
    "from IPython.display import display, Markdown\n",
    "\n",
    "import integrate"
   ]
  },
  {
   "cell_type": "markdown",
   "id": "b84abba4",
   "metadata": {},
   "source": [
    "## EXERCÍCIOS SOBRE INTEGRAÇÃO NUMÉRICA"
   ]
  },
  {
   "cell_type": "markdown",
   "id": "a4455575",
   "metadata": {},
   "source": [
    "###  1. Calcule as integrais definidas, usando o método analítico, o método dos trapézios, a 1<sup>a</sup> e 2<sup>a</sup> Regra de Simpson. Compare os resultados e tente explicar porque um resultado é melhor que o outro. (Use 7 pontos)\n",
    "\n",
    "| Letra | Integral | Mét Analítico | Trapézios | 1<sup>a</sup> Simpson (1/3) | 2<sup>a</sup> Simpson (3/8) |\n",
    "|:------|:---------|:--------------|:----------|:----------------------------|:----------------------------|\n",
    "| a) | $$\\int_0^2 (3x+1) dx$$ | | | | |\n",
    "| b) | $$\\int_0^3 (e^x+1) dx$$ | | | | |\n",
    "| c) | $$\\int_0^{\\frac{\\pi}{4}} cos(2x) dx$$ | | | | |\n",
    "| d) | $$\\int_1^3 \\frac{ln\\ x}{x} dx$$ | | | | |"
   ]
  },
  {
   "cell_type": "markdown",
   "id": "1517ba1d",
   "metadata": {},
   "source": [
    "A)\n",
    "\n",
    "$\\int_0^2 (3x+1) dx$ =\n",
    "\n",
    "$[\\frac{3x^2}{2}+x]_0^2$ =\n",
    "\n",
    "$\\frac{3 \\cdot 2^2}{2}+2$ =\n",
    "\n",
    "$6+2$ = $8$."
   ]
  },
  {
   "cell_type": "code",
   "execution_count": 2,
   "id": "c494c7e7",
   "metadata": {},
   "outputs": [
    {
     "name": "stdout",
     "output_type": "stream",
     "text": [
      "Trapézios: 8.0\n",
      "1a Simpson: 8.0\n",
      "2a Simpson: 8.0\n"
     ]
    }
   ],
   "source": [
    "f = lambda x : 3*x+1\n",
    "step = ((2-0)/6)\n",
    "y = integrate.getSlice(f,0,2,step)\n",
    "print(\"Trapézios:\", integrate.trapezoid(step,y))\n",
    "print(\"1a Simpson:\", integrate.simpsons1(step,y))\n",
    "print(\"2a Simpson:\", integrate.simpsons2(step,y))"
   ]
  },
  {
   "cell_type": "markdown",
   "id": "d79a9195",
   "metadata": {},
   "source": [
    "B)\n",
    "\n",
    "$\\int_0^3 (e^x+1) dx$ =\n",
    "\n",
    "$[e^x+x]_0^3$ =\n",
    "\n",
    "$e^3+3 - 1 \\approx 22.085536923187664$"
   ]
  },
  {
   "cell_type": "code",
   "execution_count": 3,
   "id": "d53dbf32",
   "metadata": {},
   "outputs": [
    {
     "name": "stdout",
     "output_type": "stream",
     "text": [
      "Trapézios: 22.481505345362592\n",
      "1a Simpson: 22.091971664155615\n",
      "2a Simpson: 22.099607726295687\n"
     ]
    }
   ],
   "source": [
    "f = lambda x : np.e**x+1\n",
    "step = ((3-0)/6)\n",
    "y = integrate.getSlice(f,0,3,step)\n",
    "print(\"Trapézios:\", integrate.trapezoid(step,y))\n",
    "print(\"1a Simpson:\", integrate.simpsons1(step,y))\n",
    "print(\"2a Simpson:\", integrate.simpsons2(step,y))"
   ]
  },
  {
   "cell_type": "markdown",
   "id": "2c541ab0",
   "metadata": {},
   "source": [
    "C)\n",
    "\n",
    "$\\int_0^{\\frac{\\pi}{4}} cos(2x) dx$ =\n",
    "\n",
    "$u = 2x$\n",
    "\n",
    "$du = 2dx$\n",
    "\n",
    "$2*0 = 0$\n",
    "\n",
    "$2*(\\frac{\\pi}{4}) = \\frac{\\pi}{2}$\n",
    "\n",
    "Logo,\n",
    "\n",
    "$\\frac{1}{2} \\int_0^{\\frac{\\pi}{2}} cos(u) du$ =\n",
    "\n",
    "$\\frac{1}{2} [sen(u)]_0^{\\frac{\\pi}{2}}$ =\n",
    "\n",
    "$\\frac{1}{2} [sen(\\frac{\\pi}{2})]$ =\n",
    "\n",
    "$\\frac{1}{2} (1)$ = $\\frac{1}{2}$"
   ]
  },
  {
   "cell_type": "code",
   "execution_count": 4,
   "id": "d4b7daa3",
   "metadata": {},
   "outputs": [
    {
     "name": "stdout",
     "output_type": "stream",
     "text": [
      "Trapézios: 0.49714094414607884\n",
      "1a Simpson: 0.5000131560852964\n",
      "2a Simpson: 0.5000298466038063\n"
     ]
    }
   ],
   "source": [
    "f = lambda x : np.sin(2*x)\n",
    "step = ((np.pi/4-0)/6)\n",
    "y = integrate.getSlice(f,0,np.pi/4,step)\n",
    "print(\"Trapézios:\", integrate.trapezoid(step,y))\n",
    "print(\"1a Simpson:\", integrate.simpsons1(step,y))\n",
    "print(\"2a Simpson:\", integrate.simpsons2(step,y))"
   ]
  },
  {
   "cell_type": "markdown",
   "id": "ccc365a4",
   "metadata": {},
   "source": [
    "D)\n",
    "\n",
    "$\\int_1^3 \\frac{ln\\ x}{x} dx$ =\n",
    "\n",
    "$u = ln\\ x$\n",
    "\n",
    "$du = 1/x$\n",
    "\n",
    "$x=1 \\implies u = ln\\ 1 = 0$\n",
    "\n",
    "$x=3 \\implies u = ln\\ 3$\n",
    "\n",
    "$\\int_0^{ln\\ 3} u du$ =\n",
    "\n",
    "$[\\frac{x^2}{2}]_0^{ln\\ 3}$ =\n",
    "\n",
    "$\\frac{ln^2\\ 3}{2} \\approx 0.603474480406291$"
   ]
  },
  {
   "cell_type": "code",
   "execution_count": 5,
   "id": "f57a2554",
   "metadata": {},
   "outputs": [
    {
     "name": "stdout",
     "output_type": "stream",
     "text": [
      "Trapézios: 0.5942903971069367\n",
      "1a Simpson: 0.602892734626448\n",
      "2a Simpson: 0.6023672419463884\n"
     ]
    }
   ],
   "source": [
    "f = lambda x : np.log(x)/x\n",
    "step = ((3-1)/6)\n",
    "y = integrate.getSlice(f,1,3,step)\n",
    "print(\"Trapézios:\", integrate.trapezoid(step,y))\n",
    "print(\"1a Simpson:\", integrate.simpsons1(step,y))\n",
    "print(\"2a Simpson:\", integrate.simpsons2(step,y))"
   ]
  },
  {
   "cell_type": "markdown",
   "id": "2c3f3d85",
   "metadata": {},
   "source": [
    "Discussão (TODO)."
   ]
  },
  {
   "cell_type": "markdown",
   "id": "2708da78",
   "metadata": {},
   "source": [
    "### 2. As integrais abaixo têm soluções analíticas trabalhosas ou impossíveis, resolva-as numericamente usando a 1<sup>a</sup> Regra de Simpson com 3 e depois com 5 pontos. Compare os resultados.\n",
    "\n",
    "a) $\\int_0^1 4e^{2x} dx$\n",
    "\n",
    "a) $\\int_0^2 \\sqrt{e^x+1} dx$"
   ]
  },
  {
   "cell_type": "code",
   "execution_count": 6,
   "id": "766663bb",
   "metadata": {},
   "outputs": [
    {
     "name": "stdout",
     "output_type": "stream",
     "text": [
      "1a Simpson (3): 12.84145560851122\n",
      "1a Simpson (5): 12.782420373333835\n"
     ]
    }
   ],
   "source": [
    "#a\n",
    "f = lambda x : 4*np.e**(2*x)\n",
    "l = 0\n",
    "r = 1\n",
    "\n",
    "for p in [3,5] :\n",
    "    step = ((r-l)/(p-1))\n",
    "    y = integrate.getSlice(f,l,r,step)\n",
    "    print(f\"1a Simpson ({p}):\", integrate.simpsons1(step,y))"
   ]
  },
  {
   "cell_type": "code",
   "execution_count": 7,
   "id": "f6aca750",
   "metadata": {},
   "outputs": [
    {
     "name": "stdout",
     "output_type": "stream",
     "text": [
      "1a Simpson (3): 4.00791301203099\n",
      "1a Simpson (5): 4.007054927857426\n"
     ]
    }
   ],
   "source": [
    "#b\n",
    "f = lambda x : np.sqrt(np.e**x+1)\n",
    "l = 0\n",
    "r = 2\n",
    "\n",
    "for p in [3,5] :\n",
    "    step = ((r-l)/(p-1))\n",
    "    y = integrate.getSlice(f,l,r,step)\n",
    "    print(f\"1a Simpson ({p}):\", integrate.simpsons1(step,y))"
   ]
  },
  {
   "cell_type": "markdown",
   "id": "5a17c164",
   "metadata": {},
   "source": [
    "Discussão (TODO)."
   ]
  },
  {
   "cell_type": "markdown",
   "id": "28a4bdb2",
   "metadata": {},
   "source": [
    "### 3. Use o programa computacional para calcular as integrais dadas pelos métodos indicados, com o respectivo número de pontos. Analise a precisão dos resultados.\n",
    "\n",
    "| Integral | Pontos | $$\\int_0^{\\frac{\\pi}{3}} \\sqrt{sen(3x)} dx$$ | $$\\int_{\\frac{\\pi}{6}}^{\\frac{\\pi}{3}} ln(tg(x)) dx$$ | $$\\int_0^1 \\frac{e^x+1}{x} dx$$ | $$\\int_0^2 (x^3-x+1) dx$$ |\n",
    "|:-|:-:|:-|:-|:-|:-|\n",
    "|  Trapézios  |  7 | | | | |\n",
    "|  Trapézios  | 13 | | | | |\n",
    "|  Trapézios  | 25 | | | | |\n",
    "|  Trapézios  | 31 | | | | |\n",
    "| Simpson 1/3 |  7 | | | | |\n",
    "| Simpson 1/3 | 13 | | | | |\n",
    "| Simpson 1/3 | 25 | | | | |\n",
    "| Simpson 1/3 | 31 | | | | |\n",
    "| Simpson 3/8 |  7 | | | | |\n",
    "| Simpson 3/8 | 13 | | | | |\n",
    "| Simpson 3/8 | 25 | | | | |\n",
    "| Simpson 3/8 | 31 | | | | |"
   ]
  },
  {
   "cell_type": "code",
   "execution_count": 8,
   "id": "3953f606",
   "metadata": {},
   "outputs": [
    {
     "name": "stdout",
     "output_type": "stream",
     "text": [
      "Trapézios (7): 0.7462021325906345\n",
      "1a Simpson (7): 0.7783745917918363\n",
      "2a Simpson (7): 0.7740275518525302\n",
      "\n",
      "Trapézios (13): 0.7801911351167543\n",
      "1a Simpson (13): 0.7915208026254609\n",
      "2a Simpson (13): 0.7899535616714014\n",
      "\n",
      "Trapézios (25): 0.7921961690091827\n",
      "1a Simpson (25): 0.7961978465004999\n",
      "2a Simpson (25): 0.795641101968621\n",
      "\n",
      "Trapézios (31): 0.7940634478124545\n",
      "1a Simpson (31): 0.7969264751390147\n",
      "2a Simpson (31): 0.7965278750340792\n",
      "\n"
     ]
    },
    {
     "name": "stderr",
     "output_type": "stream",
     "text": [
      "<ipython-input-8-9c607349c281>:2: RuntimeWarning: invalid value encountered in sqrt\n",
      "  f = lambda x : np.sqrt(np.sin(3*x))\n"
     ]
    }
   ],
   "source": [
    "#a\n",
    "f = lambda x : np.sqrt(np.sin(3*x))\n",
    "l = 0\n",
    "r = np.pi/3\n",
    "\n",
    "for p in [7,13,25,31] :\n",
    "    step = ((r-l)/(p-1))\n",
    "    y = integrate.getSlice(f,l,r,step)\n",
    "    if p==31 :\n",
    "        y = list(y)\n",
    "        del y[-1]\n",
    "        y.append(f(1.0471975511965976))\n",
    "        y = np.array(y)\n",
    "    print(f\"Trapézios ({p}):\", integrate.trapezoid(step,y))\n",
    "    print(f\"1a Simpson ({p}):\", integrate.simpsons1(step,y))\n",
    "    print(f\"2a Simpson ({p}):\", integrate.simpsons2(step,y),end='\\n\\n')"
   ]
  },
  {
   "cell_type": "markdown",
   "id": "cb0fb68a",
   "metadata": {},
   "source": [
    "Discussão (TODO)."
   ]
  },
  {
   "cell_type": "code",
   "execution_count": 9,
   "id": "665432aa",
   "metadata": {},
   "outputs": [
    {
     "name": "stdout",
     "output_type": "stream",
     "text": [
      "Trapézios (7): -0.07022997304062262\n",
      "1a Simpson (7): -0.07018106901870519\n",
      "2a Simpson (7): -0.0701812481408457\n",
      "\n",
      "Trapézios (13): -0.07019319184344307\n",
      "1a Simpson (13): -0.0701809314443832\n",
      "2a Simpson (13): -0.07018094296482248\n",
      "\n",
      "Trapézios (25): -0.07018399002368154\n",
      "1a Simpson (25): -0.07018092275042769\n",
      "2a Simpson (25): -0.07018092347582666\n",
      "\n",
      "Trapézios (31): -0.07018288562955913\n",
      "1a Simpson (31): -0.07018092240733231\n",
      "2a Simpson (31): -0.07018092270472323\n",
      "\n"
     ]
    }
   ],
   "source": [
    "#b\n",
    "f = lambda x : np.log(np.tan(x))\n",
    "l = np.pi/6\n",
    "r = np.pi/4\n",
    "\n",
    "for p in [7,13,25,31] :\n",
    "    step = ((r-l)/(p-1))\n",
    "    y = integrate.getSlice(f,l,r,step)\n",
    "    \"\"\"\n",
    "    if p==31 :\n",
    "        y = list(y)\n",
    "        del y[-1]\n",
    "        y.append(f(1.0471975511965976))\n",
    "        y = np.array(y)\n",
    "    \"\"\"\n",
    "    print(f\"Trapézios ({p}):\", integrate.trapezoid(step,y))\n",
    "    print(f\"1a Simpson ({p}):\", integrate.simpsons1(step,y))\n",
    "    print(f\"2a Simpson ({p}):\", integrate.simpsons2(step,y),end='\\n\\n')"
   ]
  },
  {
   "cell_type": "markdown",
   "id": "6a029de7",
   "metadata": {},
   "source": [
    "Discussão (TODO)."
   ]
  },
  {
   "cell_type": "code",
   "execution_count": 10,
   "id": "a4a07d83",
   "metadata": {},
   "outputs": [
    {
     "name": "stdout",
     "output_type": "stream",
     "text": [
      "Trapézios (7): 16672.71905963979\n",
      "1a Simpson (7): 11117.62901488071\n",
      "2a Simpson (7): 12506.330405472536\n",
      "\n",
      "Trapézios (13): 8340.77461304707\n",
      "1a Simpson (13): 5563.459797516162\n",
      "2a Simpson (13): 6257.716793189062\n",
      "\n",
      "Trapézios (25): 4175.494890947779\n",
      "1a Simpson (25): 2787.068316914683\n",
      "2a Simpson (25): 3134.1030938556155\n",
      "\n",
      "Trapézios (31): 3342.6079227923874\n",
      "1a Simpson (31): 2231.959048562795\n",
      "2a Simpson (31): 2509.5493811998695\n",
      "\n"
     ]
    },
    {
     "name": "stderr",
     "output_type": "stream",
     "text": [
      "<ipython-input-10-6a908586391b>:2: RuntimeWarning: divide by zero encountered in true_divide\n",
      "  f = lambda x : (np.e**x+1)/x\n"
     ]
    }
   ],
   "source": [
    "#c\n",
    "f = lambda x : (np.e**x+1)/x\n",
    "l = 0\n",
    "r = 1\n",
    "\n",
    "for p in [7,13,25,31] :\n",
    "    step = ((r-l)/(p-1))\n",
    "    y = integrate.getSlice(f,l,r,step)\n",
    "    y[0] = f(0.00001)\n",
    "    \"\"\"\n",
    "    if p==31 :\n",
    "        y = list(y)\n",
    "        del y[-1]\n",
    "        y.append(f(1.0471975511965976))\n",
    "        y = np.array(y)\n",
    "    \"\"\"\n",
    "    print(f\"Trapézios ({p}):\", integrate.trapezoid(step,y))\n",
    "    print(f\"1a Simpson ({p}):\", integrate.simpsons1(step,y))\n",
    "    print(f\"2a Simpson ({p}):\", integrate.simpsons2(step,y),end='\\n\\n')"
   ]
  },
  {
   "cell_type": "markdown",
   "id": "000da5dd",
   "metadata": {},
   "source": [
    "Discussão (TODO)."
   ]
  },
  {
   "cell_type": "code",
   "execution_count": 11,
   "id": "5a124c0a",
   "metadata": {},
   "outputs": [
    {
     "name": "stdout",
     "output_type": "stream",
     "text": [
      "Trapézios (7): 4.11111111111111\n",
      "1a Simpson (7): 3.9999999999999982\n",
      "2a Simpson (7): 3.9999999999999987\n",
      "\n",
      "Trapézios (13): 4.027777777777778\n",
      "1a Simpson (13): 4.0\n",
      "2a Simpson (13): 4.0\n",
      "\n",
      "Trapézios (25): 4.006944444444441\n",
      "1a Simpson (25): 3.9999999999999964\n",
      "2a Simpson (25): 3.9999999999999964\n",
      "\n",
      "Trapézios (31): 4.004444444444443\n",
      "1a Simpson (31): 3.9999999999999987\n",
      "2a Simpson (31): 3.9999999999999987\n",
      "\n"
     ]
    }
   ],
   "source": [
    "#d\n",
    "f = lambda x : (x**3 - x + 1)\n",
    "l = 0\n",
    "r = 2\n",
    "\n",
    "for p in [7,13,25,31] :\n",
    "    step = ((r-l)/(p-1))\n",
    "    y = integrate.getSlice(f,l,r,step)\n",
    "    \"\"\"\n",
    "    if p==31 :\n",
    "        y = list(y)\n",
    "        del y[-1]\n",
    "        y.append(f(1.0471975511965976))\n",
    "        y = np.array(y)\n",
    "    \"\"\"\n",
    "    print(f\"Trapézios ({p}):\", integrate.trapezoid(step,y))\n",
    "    print(f\"1a Simpson ({p}):\", integrate.simpsons1(step,y))\n",
    "    print(f\"2a Simpson ({p}):\", integrate.simpsons2(step,y),end='\\n\\n')"
   ]
  },
  {
   "cell_type": "markdown",
   "id": "a49ceec8",
   "metadata": {},
   "source": [
    "Discussão (TODO)."
   ]
  }
 ],
 "metadata": {
  "kernelspec": {
   "display_name": "Python 3",
   "language": "python",
   "name": "python3"
  },
  "language_info": {
   "codemirror_mode": {
    "name": "ipython",
    "version": 3
   },
   "file_extension": ".py",
   "mimetype": "text/x-python",
   "name": "python",
   "nbconvert_exporter": "python",
   "pygments_lexer": "ipython3",
   "version": "3.9.6"
  }
 },
 "nbformat": 4,
 "nbformat_minor": 5
}
